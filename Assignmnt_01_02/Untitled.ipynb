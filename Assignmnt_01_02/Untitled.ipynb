{
 "cells": [
  {
   "cell_type": "markdown",
   "id": "e7247333-fe62-4a8c-ad11-c2ec6d90fa13",
   "metadata": {},
   "source": [
    "print Your Name with your Father name and Date of birth using suitable escape sequence charactor"
   ]
  },
  {
   "cell_type": "code",
   "execution_count": 2,
   "id": "74d1f68b-1ef5-4c37-8aec-fb9f7394be50",
   "metadata": {},
   "outputs": [
    {
     "name": "stdout",
     "output_type": "stream",
     "text": [
      "Uzair shah  Mubashir Shah  02 dec 2003\n"
     ]
    }
   ],
   "source": [
    "print(\"Uzair shah  Mubashir Shah  02 dec 2003\")"
   ]
  },
  {
   "cell_type": "code",
   "execution_count": 3,
   "id": "a133e34f-5bb8-446d-bfbb-d7dce0cb86c5",
   "metadata": {},
   "outputs": [
    {
     "name": "stdout",
     "output_type": "stream",
     "text": [
      "always be happy\n"
     ]
    }
   ],
   "source": [
    "bio = \"always be happy\"\n",
    "print(bio)"
   ]
  },
  {
   "cell_type": "code",
   "execution_count": 4,
   "id": "363458a1-4a38-4c86-bb0d-e61bf8508c9e",
   "metadata": {},
   "outputs": [
    {
     "name": "stdout",
     "output_type": "stream",
     "text": [
      "7.142857142857143\n"
     ]
    }
   ],
   "source": [
    "print(2+3*12/7)"
   ]
  },
  {
   "cell_type": "code",
   "execution_count": 8,
   "id": "29faf863-97ea-49c2-a2c1-461b3ccf5d6a",
   "metadata": {},
   "outputs": [
    {
     "name": "stdout",
     "output_type": "stream",
     "text": [
      "80.0\n"
     ]
    }
   ],
   "source": [
    "english =70\n",
    "math= 80\n",
    "islamiat = 90\n",
    "totalMarks= 300\n",
    "persantage =( english + math + islamiat )/ totalMarks * 100\n",
    "print(persantage)"
   ]
  },
  {
   "cell_type": "code",
   "execution_count": 99,
   "id": "b774a318-e36c-4a41-9295-1aaae058dc83",
   "metadata": {},
   "outputs": [
    {
     "name": "stdin",
     "output_type": "stream",
     "text": [
      "salary 120000\n",
      "years 3\n"
     ]
    },
    {
     "name": "stdout",
     "output_type": "stream",
     "text": [
      "120000\n"
     ]
    }
   ],
   "source": [
    "a = int(input(\"salary\"))\n",
    "b = int(input(\"years\"))\n",
    "netsalary = a +(a * .05 )\n",
    "if b > 5:\n",
    "  print(netsalary)\n",
    "elif b<=5 :\n",
    "  print(a)"
   ]
  },
  {
   "cell_type": "code",
   "execution_count": 31,
   "id": "f653dcd7-05f0-4a38-9ebd-d79e2e0da3cf",
   "metadata": {},
   "outputs": [
    {
     "name": "stdin",
     "output_type": "stream",
     "text": [
      "enter age 17\n"
     ]
    },
    {
     "name": "stdout",
     "output_type": "stream",
     "text": [
      "you are not eligible for voting\n"
     ]
    }
   ],
   "source": [
    "b = int(input(\"enter age\"))\n",
    "if b > 17:\n",
    "  print(\"you are eligible for voting\")\n",
    "elif b <=17 :\n",
    "  print(\"you are not eligible for voting\")"
   ]
  },
  {
   "cell_type": "code",
   "execution_count": 34,
   "id": "801548a2-524c-4649-9103-d6a5fb740ff9",
   "metadata": {},
   "outputs": [
    {
     "name": "stdin",
     "output_type": "stream",
     "text": [
      "enter the number: 11\n"
     ]
    },
    {
     "name": "stdout",
     "output_type": "stream",
     "text": [
      "odd\n"
     ]
    }
   ],
   "source": [
    "a = int(input(\"enter the number:\"))\n",
    " \n",
    "if  a % 2 == 0:\n",
    "  print(\"even\")\n",
    "else :\n",
    "  print(\"odd\")"
   ]
  },
  {
   "cell_type": "code",
   "execution_count": 36,
   "id": "8b811437-821e-4694-b77e-a0bb04b47ae8",
   "metadata": {},
   "outputs": [
    {
     "name": "stdin",
     "output_type": "stream",
     "text": [
      "enter the number: 12\n"
     ]
    },
    {
     "name": "stdout",
     "output_type": "stream",
     "text": [
      "not divisible by 7\n"
     ]
    }
   ],
   "source": [
    "a = int(input(\"enter the number:\"))\n",
    " \n",
    "if  a % 7 == 0:\n",
    "  print(\"divisible by 7\")\n",
    "else :\n",
    "  print(\"not divisible by 7\")"
   ]
  },
  {
   "cell_type": "code",
   "execution_count": 38,
   "id": "efb954a8-262b-436f-80f0-a7e056be94f2",
   "metadata": {},
   "outputs": [
    {
     "name": "stdin",
     "output_type": "stream",
     "text": [
      "enter the number: 25\n"
     ]
    },
    {
     "name": "stdout",
     "output_type": "stream",
     "text": [
      "Hi, number is multiple of 5 \n"
     ]
    }
   ],
   "source": [
    "a = int(input(\"enter the number:\"))\n",
    " \n",
    "if  a % 5 == 0:\n",
    "  print(\"Hi, number is multiple of 5 \")\n",
    "else :\n",
    "  print(\"bye\")\n"
   ]
  },
  {
   "cell_type": "code",
   "execution_count": 43,
   "id": "014f2d51-809c-44f4-b2de-5d475ade5727",
   "metadata": {},
   "outputs": [
    {
     "name": "stdin",
     "output_type": "stream",
     "text": [
      "enter the number: 9087\n"
     ]
    },
    {
     "name": "stdout",
     "output_type": "stream",
     "text": [
      "7\n"
     ]
    }
   ],
   "source": [
    "a = int(input(\"enter the number:\")) \n",
    "n=  a % 10 \n",
    "print(n)"
   ]
  },
  {
   "cell_type": "code",
   "execution_count": 42,
   "id": "88ebccf3-8f55-465a-b1f9-822d5b24567e",
   "metadata": {},
   "outputs": [
    {
     "name": "stdout",
     "output_type": "stream",
     "text": [
      "5\n"
     ]
    }
   ],
   "source": [
    "print(n)"
   ]
  },
  {
   "cell_type": "code",
   "execution_count": 47,
   "id": "181e22de-308a-42d7-b5b3-d8c731ff642e",
   "metadata": {},
   "outputs": [
    {
     "name": "stdin",
     "output_type": "stream",
     "text": [
      "width 23\n",
      "length 24\n"
     ]
    },
    {
     "name": "stdout",
     "output_type": "stream",
     "text": [
      "reactangle\n"
     ]
    }
   ],
   "source": [
    "a = int(input(\"width\"))\n",
    "b = int(input(\"length\"))\n",
    "\n",
    "if a == b:\n",
    "  print(\"square\")\n",
    "else :\n",
    "  print(\"reactangle\")"
   ]
  },
  {
   "cell_type": "code",
   "execution_count": 48,
   "id": "c83026fd-6caa-45d1-9c87-c68aa3ceb2f3",
   "metadata": {},
   "outputs": [
    {
     "name": "stdin",
     "output_type": "stream",
     "text": [
      "1st value 2\n",
      "2nd value 3\n"
     ]
    },
    {
     "name": "stdout",
     "output_type": "stream",
     "text": [
      "3\n"
     ]
    }
   ],
   "source": [
    "\n",
    "a = int(input(\"1st value\"))\n",
    "b = int(input(\"2nd value\"))\n",
    "\n",
    "if a > b:\n",
    "  print(a)\n",
    "else :\n",
    "  print(b)"
   ]
  },
  {
   "cell_type": "code",
   "execution_count": 54,
   "id": "6f766a60-fe1f-48da-a2ee-1d95708ab2ad",
   "metadata": {},
   "outputs": [
    {
     "name": "stdin",
     "output_type": "stream",
     "text": [
      "quntity 1500\n"
     ]
    },
    {
     "name": "stdout",
     "output_type": "stream",
     "text": [
      "1350.0\n"
     ]
    }
   ],
   "source": [
    "a = int(input(\"quntity\"))\n",
    "discount = (a*.10)\n",
    "if a > 1000:\n",
    "  print(a - discount)\n",
    "else :\n",
    "    \n",
    "  print(a)"
   ]
  },
  {
   "cell_type": "code",
   "execution_count": 64,
   "id": "3d8a8512-bef9-43cd-b631-ac29da176427",
   "metadata": {},
   "outputs": [
    {
     "name": "stdin",
     "output_type": "stream",
     "text": [
      "Enter marks:  70\n"
     ]
    },
    {
     "name": "stdout",
     "output_type": "stream",
     "text": [
      "Grade B\n"
     ]
    }
   ],
   "source": [
    "a = int(input(\"Enter marks: \"))\n",
    "\n",
    "if a < 25:\n",
    "    print(\"Grade F\")\n",
    "elif a >= 25 and a < 45:\n",
    "    print(\"Grade E\")\n",
    "elif a >= 45 and a < 50:\n",
    "    print(\"Grade D\")\n",
    "elif a >= 50 and a < 60:\n",
    "    print(\"Grade C\")\n",
    "elif a >= 60 and a < 80:\n",
    "    print(\"Grade B\")\n",
    "else:\n",
    "    print(\"Grade A\")"
   ]
  },
  {
   "cell_type": "code",
   "execution_count": 73,
   "id": "b8e1cfbe-2afb-4a06-8d4a-b26bcc011dd9",
   "metadata": {},
   "outputs": [
    {
     "name": "stdin",
     "output_type": "stream",
     "text": [
      "classes held 12\n",
      "classes attend 10\n"
     ]
    },
    {
     "name": "stdout",
     "output_type": "stream",
     "text": [
      "83.33333333333334\n",
      "can appear in Exaam\n"
     ]
    }
   ],
   "source": [
    "a = int(input(\"classes held\"))\n",
    "b = int(input(\"classes attend\"))\n",
    "atten_pers = b/a * 100\n",
    "print(atten_pers)\n",
    "if atten_pers > 70:\n",
    "  print(\"can appear in Exaam\")\n",
    "elif:\n",
    "  print(\"short Attendance\")"
   ]
  },
  {
   "cell_type": "code",
   "execution_count": 87,
   "id": "3dfd8490-f03d-4245-a555-3b195a4fcdbd",
   "metadata": {},
   "outputs": [
    {
     "name": "stdin",
     "output_type": "stream",
     "text": [
      "classes held 13\n",
      "classes attend 8\n",
      "do you have mdeical cause yes\n"
     ]
    },
    {
     "name": "stdout",
     "output_type": "stream",
     "text": [
      "61.53846153846154\n",
      "can appear in Exaam\n"
     ]
    }
   ],
   "source": [
    "a = int(input(\"classes held\"))\n",
    "b = int(input(\"classes attend\"))\n",
    "c = (input(\"do you have mdeical cause\"))\n",
    "atten_pers = b/a * 100\n",
    "print(atten_pers)\n",
    "if atten_pers > 70:\n",
    "  print(\"can appear in Exaam\")\n",
    "elif  c == \"yes\":\n",
    "  print(\"can appear in Exaam\")\n",
    "else :\n",
    " print(\"short Attendance\")\n"
   ]
  },
  {
   "cell_type": "code",
   "execution_count": 89,
   "id": "220998a5-6487-4f7c-835c-e687aca201f4",
   "metadata": {},
   "outputs": [
    {
     "name": "stdin",
     "output_type": "stream",
     "text": [
      "Enter a year:  2013\n"
     ]
    },
    {
     "name": "stdout",
     "output_type": "stream",
     "text": [
      "2013 is NOT a Leap Year\n"
     ]
    }
   ],
   "source": [
    "year = int(input(\"Enter a year: \"))\n",
    "\n",
    "if (year % 400 == 0) or (year % 4 == 0 and year % 100 != 0):\n",
    "    print(year, \"is a Leap Year\")\n",
    "else:\n",
    "    print(year, \"is NOT a Leap Year\")"
   ]
  },
  {
   "cell_type": "code",
   "execution_count": 91,
   "id": "af15e1c2-6aa0-41e2-9083-4996c8ab6958",
   "metadata": {},
   "outputs": [
    {
     "name": "stdin",
     "output_type": "stream",
     "text": [
      "Enter age:  20\n",
      "Enter gender (M/F):  f\n",
      "Enter marital status (Y/N):  n\n"
     ]
    },
    {
     "name": "stdout",
     "output_type": "stream",
     "text": [
      "She will work only in urban areas\n"
     ]
    }
   ],
   "source": [
    "age = int(input(\"Enter age: \"))\n",
    "gender = input(\"Enter gender (M/F): \").upper()\n",
    "marital_status = input(\"Enter marital status (Y/N): \").upper()\n",
    "\n",
    "if gender == \"F\":\n",
    "    print(\"She will work only in urban areas\")\n",
    "elif gender == \"M\":\n",
    "    if 20 <= age <= 40:\n",
    "        print(\"He may work anywhere\")\n",
    "    elif 40 < age <= 60:\n",
    "        print(\"He will work in urban areas only\")\n",
    "    else:\n",
    "        print(\"ERROR\")\n",
    "else:\n",
    "    print(\"ERROR\")\n",
    "\n"
   ]
  },
  {
   "cell_type": "code",
   "execution_count": 97,
   "id": "3dbd7e5e-5b15-4556-b9f8-fea78cb2b4a5",
   "metadata": {},
   "outputs": [
    {
     "name": "stdin",
     "output_type": "stream",
     "text": [
      "Enter number of units:  80\n"
     ]
    },
    {
     "name": "stdout",
     "output_type": "stream",
     "text": [
      "Total bill amount = Rs. 0\n"
     ]
    }
   ],
   "source": [
    "units = int(input(\"Enter number of units: \"))\n",
    "\n",
    "if units <= 100:\n",
    "    bill = 0\n",
    "elif units <= 200:\n",
    "    bill = units * 5\n",
    "else:\n",
    "    bill =  units * 10\n",
    "\n",
    "print(\"Total bill amount = Rs.\", bill)\n"
   ]
  },
  {
   "cell_type": "code",
   "execution_count": null,
   "id": "123c1ffe-82c1-4587-a298-1812281e40dd",
   "metadata": {},
   "outputs": [],
   "source": []
  }
 ],
 "metadata": {
  "kernelspec": {
   "display_name": "Python 3 (ipykernel)",
   "language": "python",
   "name": "python3"
  },
  "language_info": {
   "codemirror_mode": {
    "name": "ipython",
    "version": 3
   },
   "file_extension": ".py",
   "mimetype": "text/x-python",
   "name": "python",
   "nbconvert_exporter": "python",
   "pygments_lexer": "ipython3",
   "version": "3.13.5"
  }
 },
 "nbformat": 4,
 "nbformat_minor": 5
}
